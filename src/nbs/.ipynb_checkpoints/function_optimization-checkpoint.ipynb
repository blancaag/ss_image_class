{
 "cells": [
  {
   "cell_type": "code",
   "execution_count": 44,
   "metadata": {},
   "outputs": [
    {
     "name": "stdout",
     "output_type": "stream",
     "text": [
      "[]\n",
      "svmem(total=17179869184, available=3952271360, percent=77.0, used=14315429888, free=811089920, active=7955431424, inactive=3141181440, wired=3218817024)\n",
      "2.0.8\n"
     ]
    }
   ],
   "source": [
    "import libraries\n",
    "from libraries import *\n",
    "%matplotlib inline\n",
    "\n",
    "print(get_available_gpus())\n",
    "\n",
    "# sys.stdout.flush()\n",
    "print(psutil.virtual_memory())\n",
    "\n",
    "reload(libraries)\n",
    "from libraries import *\n",
    "\n",
    "print(keras.__version__)"
   ]
  },
  {
   "cell_type": "code",
   "execution_count": 64,
   "metadata": {
    "collapsed": true
   },
   "outputs": [],
   "source": [
    "def load_data(split=0.8, path='../data/sushi_or_sandwich/', target_size=(256, 256), pil=False):\n",
    "    \n",
    "    flabs = (join(path, i) for i in listdir(path) if not isfile(join(path, i)))\n",
    "\n",
    "    d_lab = {'sandwich': 0, 'sushi': 1}\n",
    "\n",
    "    ims = np.empty(((0,) + target_size + (3,)))\n",
    "    labs = np.empty((0,))\n",
    "\n",
    "    for i in flabs:\n",
    "        print(i)\n",
    "        ims_gen = (join(i, j) for j in listdir(i) if isfile(join(i, j)))\n",
    "        for j in ims_gen:\n",
    "            print(j)\n",
    "            if pil: im = img_to_array(load_img(j, target_size=target_size))\n",
    "            else:\n",
    "                im = cv2.imread(j).astype(np.float32)\n",
    "                im = cv2.cvtColor(im, cv2.COLOR_BGR2RGB) # b,g,r = cv2.split(im); im = cv2.merge([r,g,b]) \n",
    "                im = cv2.resize(im, target_size)\n",
    "\n",
    "            ims = np.append(ims, im.reshape((1,) + im.shape), axis=0)\n",
    "            labs = np.append(labs, (d_lab[i.split(path)[1]], ), axis=0)\n",
    "    \n",
    "    return preprocess_data(ims, labs, split)"
   ]
  },
  {
   "cell_type": "code",
   "execution_count": 5,
   "metadata": {
    "collapsed": true
   },
   "outputs": [
    {
     "ename": "NameError",
     "evalue": "name 'os' is not defined",
     "output_type": "error",
     "traceback": [
      "\u001b[0;31m---------------------------------------------------------------------------\u001b[0m",
      "\u001b[0;31mNameError\u001b[0m                                 Traceback (most recent call last)",
      "\u001b[0;32m<ipython-input-5-f45eb67ac996>\u001b[0m in \u001b[0;36m<module>\u001b[0;34m()\u001b[0m\n\u001b[1;32m      3\u001b[0m \u001b[0mpil\u001b[0m\u001b[0;34m=\u001b[0m\u001b[0;36m0\u001b[0m\u001b[0;34m\u001b[0m\u001b[0m\n\u001b[1;32m      4\u001b[0m \u001b[0;34m\u001b[0m\u001b[0m\n\u001b[0;32m----> 5\u001b[0;31m \u001b[0mx_train\u001b[0m\u001b[0;34m,\u001b[0m \u001b[0my_train\u001b[0m\u001b[0;34m,\u001b[0m \u001b[0mx_test\u001b[0m\u001b[0;34m,\u001b[0m \u001b[0my_test\u001b[0m\u001b[0;34m,\u001b[0m \u001b[0mmean_set\u001b[0m\u001b[0;34m,\u001b[0m \u001b[0mstd_set\u001b[0m \u001b[0;34m=\u001b[0m \u001b[0mload_data\u001b[0m\u001b[0;34m(\u001b[0m\u001b[0mpath\u001b[0m\u001b[0;34m=\u001b[0m\u001b[0mpath\u001b[0m\u001b[0;34m)\u001b[0m\u001b[0;34m\u001b[0m\u001b[0m\n\u001b[0m\u001b[1;32m      6\u001b[0m \u001b[0mprint\u001b[0m\u001b[0;34m(\u001b[0m\u001b[0mx_train\u001b[0m\u001b[0;34m.\u001b[0m\u001b[0mshape\u001b[0m\u001b[0;34m)\u001b[0m\u001b[0;34m\u001b[0m\u001b[0m\n",
      "\u001b[0;32m~/Documents/cookpad/nbs/checkpoint/nbs/libraries.py\u001b[0m in \u001b[0;36mload_data\u001b[0;34m(split, path, target_size, pil)\u001b[0m\n\u001b[1;32m     34\u001b[0m \u001b[0;34m\u001b[0m\u001b[0m\n\u001b[1;32m     35\u001b[0m     \u001b[0mcd_folder\u001b[0m \u001b[0;34m=\u001b[0m \u001b[0;34m'../output/compressed_data'\u001b[0m\u001b[0;34m\u001b[0m\u001b[0m\n\u001b[0;32m---> 36\u001b[0;31m     \u001b[0;32mif\u001b[0m \u001b[0mos\u001b[0m\u001b[0;34m.\u001b[0m\u001b[0mpath\u001b[0m\u001b[0;34m.\u001b[0m\u001b[0mexists\u001b[0m\u001b[0;34m(\u001b[0m \u001b[0mcd_folder\u001b[0m\u001b[0;34m)\u001b[0m\u001b[0;34m:\u001b[0m\u001b[0;34m\u001b[0m\u001b[0m\n\u001b[0m\u001b[1;32m     37\u001b[0m \u001b[0;34m\u001b[0m\u001b[0m\n\u001b[1;32m     38\u001b[0m         \u001b[0mx_train\u001b[0m \u001b[0;34m=\u001b[0m \u001b[0mload_array\u001b[0m\u001b[0;34m(\u001b[0m\u001b[0mjoin\u001b[0m\u001b[0;34m(\u001b[0m\u001b[0mcd_folder\u001b[0m\u001b[0;34m,\u001b[0m \u001b[0;34m'x_train'\u001b[0m\u001b[0;34m)\u001b[0m\u001b[0;34m)\u001b[0m\u001b[0;34m\u001b[0m\u001b[0m\n",
      "\u001b[0;31mNameError\u001b[0m: name 'os' is not defined"
     ]
    }
   ],
   "source": [
    "path = '/Users/blanca_alonso/Documents/cookpad/data/sushi_or_sandwich/'\n",
    "target_size = (256, 256)\n",
    "pil=0\n",
    "\n",
    "x_train, y_train, x_test, y_test, mean_set, std_set = load_data(path=path)\n",
    "print(x_train.shape)"
   ]
  },
  {
   "cell_type": "markdown",
   "metadata": {},
   "source": [
    "#### optimized data loading"
   ]
  },
  {
   "cell_type": "code",
   "execution_count": 43,
   "metadata": {},
   "outputs": [],
   "source": [
    "def load_data_extended(split=0.8, path='../data/sushi_or_sandwich/', target_size=(256, 256), pil=False):\n",
    "\n",
    "    fsplit = [join(path, i) for i in listdir(path) if not isfile(join(path, i))]\n",
    "\n",
    "    d_lab = {'sandwich': 0, 'sushi': 1}\n",
    "    ims = np.empty(((0,) + target_size + (3,)))\n",
    "    labs = np.empty((0,))\n",
    "\n",
    "    for i in fsplit:\n",
    "        print(i)\n",
    "        flabs = [join(i, j) for j in listdir(i) if not isfile(join(i, j))]    \n",
    "\n",
    "        for j in flabs:\n",
    "            print(j)\n",
    "            ims_gen = (join(j, k) for k in listdir(j) if isfile(join(j, k)))\n",
    "\n",
    "            for k in ims_gen:\n",
    "                print(k)\n",
    "                if pil: im = img_to_array(load_img(k, target_size=target_size))\n",
    "                else:\n",
    "                    im = cv2.imread(k).astype(np.float32)\n",
    "                    im = cv2.cvtColor(im, cv2.COLOR_BGR2RGB)\n",
    "                    im = cv2.resize(im, target_size)\n",
    "\n",
    "                ims = np.append(ims, im.reshape((1,) + im.shape), axis=0)\n",
    "                labs = np.append(labs, (d_lab[j.split(i)[1].split('/')[1]], ), axis=0)\n",
    "                \n",
    "    return preprocess_data(ims, labs, split)"
   ]
  },
  {
   "cell_type": "code",
   "execution_count": null,
   "metadata": {
    "collapsed": true
   },
   "outputs": [],
   "source": [
    "path = '/Users/blanca_alonso/Documents/cookpad/data/sushi_or_sandwich/'\n",
    "target_size = (256, 256)\n",
    "\n",
    "import timeit\n",
    "\n",
    "print(timeit.timeit(load_data(path=path), number=1))\n",
    "\n",
    "print(timeit.timeit(load_data(path=path, pil=True), number=1))\n",
    "\n",
    "# or..\n",
    "\n",
    "print(%timeit load_data(path=path))\n",
    "# 5min 43s ± 3.41 s per loop (mean ± std. dev. of 7 runs, 1 loop each)\n",
    "\n",
    "print(%timeit load_data(path=path, pil=True))\n",
    "# 5min 50s ± 8.39 s per loop (mean ± std. dev. of 7 runs, 1 loop each"
   ]
  },
  {
   "cell_type": "code",
   "execution_count": null,
   "metadata": {
    "collapsed": true
   },
   "outputs": [],
   "source": [
    "path = '/Users/blanca_alonso/Documents/cookpad/data/sushi_or_sandwich_extended/'\n",
    "target_size = (256, 256)\n",
    "pil=0\n",
    "\n",
    "load_data_extended(path=path)"
   ]
  },
  {
   "cell_type": "code",
   "execution_count": 8,
   "metadata": {
    "collapsed": true
   },
   "outputs": [],
   "source": [
    "def take_sample(path, target_size=(512, 512), pil=False):\n",
    "    ims_gen = (join(path, i) for i in listdir(path) if isfile(join(path, i)))\n",
    "    for _, i in enumerate(ims_gen):\n",
    "        if _ == 0:\n",
    "            if pil: im = img_to_array(load_img(i, target_size=target_size))\n",
    "            else:\n",
    "                im = cv2.imread(i).astype(np.float32)\n",
    "                im = cv2.cvtColor(im, cv2.COLOR_BGR2RGB)\n",
    "                im = cv2.resize(im, target_size)\n",
    "                plt.axis('off')\n",
    "                plt.tight_layout()\n",
    "                plt.imshow(im.astype(np.uint8))\n",
    "                return im"
   ]
  },
  {
   "cell_type": "code",
   "execution_count": 57,
   "metadata": {},
   "outputs": [],
   "source": [
    "def preprocess_input_function(x, model, crop=None):\n",
    "    \"\"\"Preprocesses a tensor encoding a batch of images.\n",
    "    # Arguments\n",
    "        x: input Numpy tensor, 4D.\n",
    "        model: pretrained model to be used\n",
    "        crop: ['centered', 'random', None].\n",
    "    # Returns\n",
    "        Preprocessed tensor.\n",
    "    \"\"\"\n",
    "    \n",
    "    if model in ['inception_v3', 'xception', 'mobilenet']: \n",
    "        x /= 255.\n",
    "        x -= 0.5\n",
    "        x *= 2.\n",
    "        \n",
    "    elif model in ['densenet_121', 'densenet_161', 'densenet_169']:\n",
    "        # Subtract mean pixel and multiple by scaling constant \n",
    "        # Reference: https://github.com/shicai/DenseNet-Caffe\n",
    "        x[:,:,0] = (x[:,:,0] - 103.94) * 0.017\n",
    "        x[:,:,1] = (x[:,:,1] - 116.78) * 0.017\n",
    "        x[:,:,2] = (x[:,:,2] - 123.68) * 0.017\n",
    "        \n",
    "    elif model in ['resnet_50', 'vgg_16', 'vgg_19']:\n",
    "        # 'RGB'->'BGR'\n",
    "        x = x[..., ::-1]\n",
    "        # Zero-center by mean pixel\n",
    "        x[..., 0] -= 103.939\n",
    "        x[..., 1] -= 116.779\n",
    "        x[..., 2] -= 123.68\n",
    "\n",
    "    if crop=='centered': center_crop(x)\n",
    "    if crop=='random': random_crop(x)\n",
    "         \n",
    "    return x"
   ]
  },
  {
   "cell_type": "code",
   "execution_count": 58,
   "metadata": {},
   "outputs": [
    {
     "name": "stdout",
     "output_type": "stream",
     "text": [
      "0.0 250.088 106.982 54.4011\n",
      "-2.10256 2.42086 -0.132905 0.967445\n"
     ]
    },
    {
     "data": {
      "image/png": "[encoded data removed]",
      "text/plain": [
       "<matplotlib.figure.Figure at 0x1258a9d30>"
      ]
     },
     "metadata": {},
     "output_type": "display_data"
    }
   ],
   "source": [
    "path = '/Users/blanca_alonso/Documents/cookpad/data/sushi_or_sandwich/sushi/'\n",
    "\n",
    "im = take_sample(path)\n",
    "\n",
    "im_= np.expand_dims(im, 0)\n",
    "print(im.min(), im.max(), im.mean(), im.std())\n",
    "\n",
    "im = preprocess_input_function(im, 'densenet_121', crop='centered')\n",
    "print(im.min(), im.max(), im.mean(), im.std())\n",
    "\n",
    "plot_im(im)"
   ]
  },
  {
   "cell_type": "code",
   "execution_count": null,
   "metadata": {},
   "outputs": [],
   "source": []
  },
  {
   "cell_type": "code",
   "execution_count": null,
   "metadata": {
    "collapsed": true
   },
   "outputs": [],
   "source": []
  }
 ],
 "metadata": {
  "kernelspec": {
   "display_name": "Python 3",
   "language": "python",
   "name": "python3"
  },
  "language_info": {
   "codemirror_mode": {
    "name": "ipython",
    "version": 3
   },
   "file_extension": ".py",
   "mimetype": "text/x-python",
   "name": "python",
   "nbconvert_exporter": "python",
   "pygments_lexer": "ipython3",
   "version": "3.6.2"
  }
 },
 "nbformat": 4,
 "nbformat_minor": 2
}
