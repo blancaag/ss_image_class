{
 "cells": [
  {
   "cell_type": "code",
   "execution_count": 2,
   "metadata": {},
   "outputs": [
    {
     "name": "stdout",
     "output_type": "stream",
     "text": [
      "[]\n",
      "svmem(total=17179869184, available=4624527360, percent=73.1, used=14251180032, free=405352448, active=6392815616, inactive=4219174912, wired=3639189504)\n",
      "2.0.8\n"
     ]
    }
   ],
   "source": [
    "import sys\n",
    "sys.path.append('../utils/')\n",
    "\n",
    "import libraries\n",
    "from libraries import *\n",
    "import utils_functions\n",
    "from utils_functions import *\n",
    "\n",
    "%matplotlib inline\n",
    "\n",
    "reload(libraries)\n",
    "from libraries import *\n",
    "reload(utils_functions)\n",
    "from utils_functions import *\n",
    "\n",
    "# checking\n",
    "print(get_available_gpus())\n",
    "print(psutil.virtual_memory())\n",
    "print(keras.__version__)"
   ]
  },
  {
   "cell_type": "code",
   "execution_count": 3,
   "metadata": {},
   "outputs": [
    {
     "ename": "NameError",
     "evalue": "name 'des' is not defined",
     "output_type": "error",
     "traceback": [
      "\u001b[0;31m---------------------------------------------------------------------------\u001b[0m",
      "\u001b[0;31mNameError\u001b[0m                                 Traceback (most recent call last)",
      "\u001b[0;32m<ipython-input-3-6594db4aab82>\u001b[0m in \u001b[0;36m<module>\u001b[0;34m()\u001b[0m\n\u001b[1;32m      1\u001b[0m \u001b[0;32mimport\u001b[0m \u001b[0margparse\u001b[0m\u001b[0;34m\u001b[0m\u001b[0m\n\u001b[0;32m----> 2\u001b[0;31m \u001b[0mparser\u001b[0m \u001b[0;34m=\u001b[0m \u001b[0margparse\u001b[0m\u001b[0;34m.\u001b[0m\u001b[0mArgumentParser\u001b[0m\u001b[0;34m(\u001b[0m\u001b[0mdes\u001b[0m\u001b[0;34m)\u001b[0m\u001b[0;34m\u001b[0m\u001b[0m\n\u001b[0m\u001b[1;32m      3\u001b[0m \u001b[0;34m\u001b[0m\u001b[0m\n\u001b[1;32m      4\u001b[0m \u001b[0mparser\u001b[0m\u001b[0;34m.\u001b[0m\u001b[0madd_argument\u001b[0m\u001b[0;34m(\u001b[0m\u001b[0;34m'--models'\u001b[0m\u001b[0;34m,\u001b[0m \u001b[0mtype\u001b[0m\u001b[0;34m=\u001b[0m\u001b[0mstr\u001b[0m\u001b[0;34m,\u001b[0m \u001b[0mdefault\u001b[0m\u001b[0;34m=\u001b[0m\u001b[0;32mNone\u001b[0m\u001b[0;34m)\u001b[0m\u001b[0;34m\u001b[0m\u001b[0m\n\u001b[1;32m      5\u001b[0m \u001b[0mparser\u001b[0m\u001b[0;34m.\u001b[0m\u001b[0madd_argument\u001b[0m\u001b[0;34m(\u001b[0m\u001b[0;34m'--metrics'\u001b[0m\u001b[0;34m,\u001b[0m \u001b[0mtype\u001b[0m\u001b[0;34m=\u001b[0m\u001b[0mstr\u001b[0m\u001b[0;34m,\u001b[0m \u001b[0mdefault\u001b[0m\u001b[0;34m=\u001b[0m\u001b[0;32mNone\u001b[0m\u001b[0;34m)\u001b[0m\u001b[0;34m\u001b[0m\u001b[0m\n",
      "\u001b[0;31mNameError\u001b[0m: name 'des' is not defined"
     ]
    }
   ],
   "source": [
    "import argparse\n",
    "parser = argparse.ArgumentParser(description='This program print the the average prediction \\\n",
    "                                 the selected models for the data contained under the \\\n",
    "                                 \"test_data\" folder. @)\n",
    "\n",
    "parser.add_argument('--models', type=str, default=None)\n",
    "parser.add_argument('--metrics', type=str, default=None)\n",
    "# parser.add_argument('--test_data_folder', type=bool, default=False)\n",
    "parser.add_argument('--from_dir', type=bool, default=False)\n",
    "# params = parser.parse_args()\n",
    "# params\n",
    "parser.print_help()"
   ]
  },
  {
   "cell_type": "code",
   "execution_count": 63,
   "metadata": {},
   "outputs": [
    {
     "name": "stdout",
     "output_type": "stream",
     "text": [
      "usage: ipykernel_launcher.py [-h] ‐startdate\n",
      "\n",
      "This program downloads webcam images\n",
      "\n",
      "positional arguments:\n",
      "  ‐startdate  startdate given as:dd.mm.YYYY\n",
      "\n",
      "optional arguments:\n",
      "  -h, --help  show this help message and exit\n"
     ]
    }
   ],
   "source": [
    "parser = argparse.ArgumentParser(description='This program downloads webcam images')\n",
    "parser.add_argument('‐startdate', type=str, help='startdate given as:dd.mm.YYYY')\n",
    "parser.print_help()"
   ]
  },
  {
   "cell_type": "code",
   "execution_count": 42,
   "metadata": {},
   "outputs": [
    {
     "data": {
      "text/plain": [
       "'model/run-0'"
      ]
     },
     "execution_count": 42,
     "metadata": {},
     "output_type": "execute_result"
    }
   ],
   "source": [
    "run = 0\n",
    "models = 'model'\n",
    "f\"{models}/run-{run}\""
   ]
  },
  {
   "cell_type": "code",
   "execution_count": 17,
   "metadata": {
    "collapsed": true
   },
   "outputs": [],
   "source": [
    "# models to include\n",
    "\n",
    "models_list = ['resnet_50', 'inception_v3', 'xception', 'mobilenet', \n",
    "               'vgg_16', 'vgg_19',\n",
    "               'densenet_121', 'densenet_161', 'densenet_169']\n",
    "\n",
    "models_list = ['resnet_50']\n",
    "\n",
    "# metrics to calculate\n",
    "\n",
    "metrics_list = [binary_crossentropy, \n",
    "                binary_accuracy, \n",
    "                recall, \n",
    "                precision, \n",
    "                fmeasure,\n",
    "                fbeta_score, \n",
    "                hinge, \n",
    "                squared_hinge, \n",
    "                kullback_leibler_divergence,\n",
    "                poisson, \n",
    "                cosine_proximity, \n",
    "                matthews_correlation]\n",
    "\n",
    "# global variables\n",
    "\n",
    "num_classes = 1\n",
    "target_size = (256, 256)\n",
    "input_shape = target_size_rn50 + (3,)\n",
    "results = {}\n",
    "\n",
    "# global directories\n",
    "\n",
    "output = '../output'\n",
    "data = 'compressed_data'\n",
    "cd_path = join(join(output, data), str(target_size[0]) + '_' + str(target_size[1]))\n",
    "\n",
    "path='../../data/sushi_or_sandwich/'\n",
    "\n",
    "# loading test data\n",
    "\n",
    "x_test = load_array(join(cd_path, 'x_test'))\n",
    "y_test = load_array(join(cd_path, 'y_test'))"
   ]
  },
  {
   "cell_type": "code",
   "execution_count": 20,
   "metadata": {
    "collapsed": true
   },
   "outputs": [],
   "source": [
    "def add_model_results(m, metrics):\n",
    "    \n",
    "    m_results = {}\n",
    "\n",
    "    for _, i in enumerate(m.metrics_names):\n",
    "        m_results[i] = metrics[_]\n",
    "\n",
    "    results[m] = m_results \n",
    "\n",
    "def print_results():\n",
    "    \n",
    "    print (\"Evaluation metrics using the data contained @ //// \\n\")\n",
    "    for i, j in results.items():\n",
    "        print (\"Model: %s\" %i)\n",
    "        for k, l in j.items(): print (\"   %s: %.3f\" %(k, l))\n",
    "\n",
    "def evaluate_resnet_50():\n",
    "\n",
    "    # directories\n",
    "    model = 'resnet_50'\n",
    "    model_output = join(output, model)\n",
    "    model_output_weights = join(model_output, 'weights')\n",
    "\n",
    "    ## base model\n",
    "    input_shape = x_test.shape[1:]\n",
    "    bm = ResNet50(include_top=False, weights='imagenet', input_shape=input_shape)\n",
    "\n",
    "    ## top model\n",
    "    p = 0.8\n",
    "\n",
    "    top_m = Sequential([\n",
    "            BatchNormalization(input_shape=bm.output_shape[1:]),\n",
    "            Flatten(),\n",
    "            Dropout(p),\n",
    "            Dense(256, activation='relu'),\n",
    "            BatchNormalization(),\n",
    "            Dropout(p),\n",
    "            Dense(256, activation='relu'),\n",
    "            BatchNormalization(),\n",
    "            Dropout(p),\n",
    "            Dense(1, activation='sigmoid')])\n",
    "\n",
    "    ## whole model\n",
    "\n",
    "    m = Model(bm.input, top_m(bm.output))\n",
    "\n",
    "    m.compile(Adam(), \n",
    "              loss='binary_crossentropy', \n",
    "              metrics=metrics_list)\n",
    "\n",
    "    m.load_weights(join(model_output_weights, 'm_0.2732_0.9000'))\n",
    "\n",
    "    metrics = m.evaluate(x_test, y_test)\n",
    "    \n",
    "    add_model_results(m, metrics)\n",
    "    \n",
    "def evaluate_inception_v3():\n",
    "\n",
    "    # directories\n",
    "    model = 'inception_v3'\n",
    "    model_output = join(output, model)\n",
    "    model_output_weights = join(model_output, 'weights')\n",
    "\n",
    "    ## base model\n",
    "    input_shape = x_test.shape[1:]\n",
    "    bm = IneceptionV3(include_top=False, weights='imagenet', input_shape=input_shape)\n",
    "\n",
    "    ## top model\n",
    "    p = 0.8\n",
    "\n",
    "    top_m = Sequential([\n",
    "            BatchNormalization(input_shape=bm.output_shape[1:]),\n",
    "            MaxPooling2D(),\n",
    "            Flatten(),\n",
    "            Dropout(p),\n",
    "            Dense(256, activation='relu'),\n",
    "            BatchNormalization(),\n",
    "            Dropout(p),\n",
    "            Dense(256, activation='relu'),\n",
    "            BatchNormalization(),\n",
    "            Dropout(p),\n",
    "            Dense(1, activation='sigmoid')])\n",
    "\n",
    "    ## whole model\n",
    "\n",
    "    m = Model(bm.input, top_m(bm.output))\n",
    "\n",
    "    m.compile(Adam(), \n",
    "              loss='binary_crossentropy', \n",
    "              metrics=metrics_list)\n",
    "\n",
    "    m.load_weights(join(model_output_weights, 'gen0_top_model_w_89_028.h5'))\n",
    "\n",
    "    metrics = m.evaluate(x_test, y_test)\n",
    "    \n",
    "    add_model_results(m, metrics)\n",
    "    \n",
    "def evaluate_mobilenet():\n",
    "\n",
    "    # directories\n",
    "    model = 'mobilenet'\n",
    "    model_output = join(output, model)\n",
    "    model_output_weights = join(model_output, 'weights')\n",
    "\n",
    "    ## base model\n",
    "    input_shape = x_test.shape[1:]\n",
    "    bm = IneceptionV3(include_top=False, weights='imagenet', input_shape=input_shape)\n",
    "\n",
    "    ## top model\n",
    "    p = 0.8\n",
    "\n",
    "    top_m = Sequential([\n",
    "            BatchNormalization(input_shape=bm.output_shape[1:]),\n",
    "            MaxPooling2D(),\n",
    "            Flatten(),\n",
    "            Dropout(p),\n",
    "            Dense(256, activation='relu'),\n",
    "            BatchNormalization(),\n",
    "            Dropout(p),\n",
    "            Dense(256, activation='relu'),\n",
    "            BatchNormalization(),\n",
    "            Dropout(p),\n",
    "            Dense(1, activation='sigmoid')])\n",
    "\n",
    "    ## whole model\n",
    "\n",
    "    m = Model(bm.input, top_m(bm.output))\n",
    "\n",
    "    m.compile(Adam(), \n",
    "              loss='binary_crossentropy', \n",
    "              metrics=metrics_list)\n",
    "\n",
    "    m.load_weights(join(model_output_weights, 'gen0_top_model_w_89_028.h5'))\n",
    "\n",
    "    metrics = m.evaluate(x_test, y_test)\n",
    "    \n",
    "    add_model_results(m, metrics)"
   ]
  },
  {
   "cell_type": "code",
   "execution_count": 21,
   "metadata": {},
   "outputs": [
    {
     "name": "stdout",
     "output_type": "stream",
     "text": [
      "160/160 [==============================] - 48s    \n",
      "Evaluation metrics using the data contained @ //// \n",
      "\n",
      "Model: <keras.engine.training.Model object at 0x1535f2ba8>\n",
      "   loss: 0.258\n",
      "   binary_crossentropy: 2.372\n",
      "   binary_accuracy: 0.906\n",
      "   recall: 0.852\n",
      "   precision: 0.951\n",
      "   fmeasure: 0.896\n",
      "   fbeta_score: 0.896\n",
      "   hinge: 0.630\n",
      "   squared_hinge: 0.593\n",
      "   kullback_leibler_divergence: 0.176\n",
      "   poisson: 0.601\n",
      "   cosine_proximity: -0.462\n",
      "   matthews_correlation: 0.817\n"
     ]
    }
   ],
   "source": [
    "if __name__ == '__main__':\n",
    "\n",
    "    for i in models_list:\n",
    "        exec('evaluate_{}()'.format(i))\n",
    "\n",
    "    print_results()"
   ]
  },
  {
   "cell_type": "code",
   "execution_count": null,
   "metadata": {
    "collapsed": true
   },
   "outputs": [],
   "source": []
  }
 ],
 "metadata": {
  "kernelspec": {
   "display_name": "Python 3",
   "language": "python",
   "name": "python3"
  },
  "language_info": {
   "codemirror_mode": {
    "name": "ipython",
    "version": 3
   },
   "file_extension": ".py",
   "mimetype": "text/x-python",
   "name": "python",
   "nbconvert_exporter": "python",
   "pygments_lexer": "ipython3",
   "version": "3.6.2"
  }
 },
 "nbformat": 4,
 "nbformat_minor": 2
}
